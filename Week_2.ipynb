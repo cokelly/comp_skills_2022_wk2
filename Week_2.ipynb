{
 "cells": [
  {
   "cell_type": "markdown",
   "metadata": {},
   "source": [
    "# Week 1: Introducing Pandas\n",
    "\n",
    "![dataframe](images/dataframe.png)\n"
   ]
  },
  {
   "cell_type": "markdown",
   "metadata": {},
   "source": [
    "[Pandas](https://pandas.pydata.org/) is a Python library that specialises in managing, manipulating and analysing *tabular* data. "
   ]
  },
  {
   "cell_type": "markdown",
   "metadata": {},
   "source": [
    "Tabular data is perhaps the most ubiquitous data type out there, consisting of columns containing *variables* (\"species name\", \"height\", \"is deciduous\", \"longevity\") and rows containing *observations* (\"oak\", \"20 meters\", \"True\", \"1000 years\")."
   ]
  },
  {
   "cell_type": "markdown",
   "metadata": {},
   "source": [
    "Tabular data sits at the heart of many databases (often employing [SQL](https://docs.microsoft.com/en-us/sql/odbc/reference/structured-query-language-sql?view=sql-server-ver15)). "
   ]
  },
  {
   "cell_type": "markdown",
   "metadata": {},
   "source": [
    "Excel is also set out in a tabular manner although often not in a way that is friendly to analysis because Excel invites people to present with the same tables that they run their analyses on."
   ]
  },
  {
   "cell_type": "markdown",
   "metadata": {},
   "source": [
    "While it is intuitive, tabular data is not a 'natural' way to store information. We often have to make serious decisions regarding about how information will be translated into tabular data. We must decide on the variables we will include in our dataset and then on how we will gather our observations. These are not trivial considerations. "
   ]
  },
  {
   "cell_type": "markdown",
   "metadata": {},
   "source": [
    "## In this tutorial\n",
    "\n",
    "While there is no replacement for reading [the documetation](https://pandas.pydata.org/pandas-docs/stable/user_guide/index.html) (and keeping it in a tab as you work), let us examine some elements in using pandas.\n",
    "\n",
    "* creating dataframes\n",
    "* manipulating data\n",
    "* importing dataframes\n",
    "* creating new information\n",
    "\n",
    "We will also explore some key components in good data management, namely:\n",
    "\n",
    "* Comments\n",
    "* Codebooks\n",
    "* Version control (if we have time)"
   ]
  },
  {
   "cell_type": "markdown",
   "metadata": {},
   "source": [
    "# Data types in Python"
   ]
  },
  {
   "cell_type": "markdown",
   "metadata": {},
   "source": [
    "Python has a number of different methods for holding data. Three types are:\n"
   ]
  },
  {
   "cell_type": "markdown",
   "metadata": {},
   "source": [
    "## Lists\n",
    "\n",
    "Note the syntax: lists are denoted by square brackets."
   ]
  },
  {
   "cell_type": "code",
   "execution_count": null,
   "metadata": {},
   "outputs": [],
   "source": [
    "# make list"
   ]
  },
  {
   "cell_type": "code",
   "execution_count": null,
   "metadata": {},
   "outputs": [],
   "source": [
    "# a for loop squaring a list"
   ]
  },
  {
   "cell_type": "markdown",
   "metadata": {},
   "source": [
    "## Tuples\n",
    "\n",
    "These are more memory efficient than lists but are immutable, meaning that you can't change them once you place values inside them."
   ]
  },
  {
   "cell_type": "code",
   "execution_count": null,
   "metadata": {},
   "outputs": [],
   "source": [
    "# make tuple"
   ]
  },
  {
   "cell_type": "code",
   "execution_count": null,
   "metadata": {},
   "outputs": [],
   "source": [
    "# amend list"
   ]
  },
  {
   "cell_type": "code",
   "execution_count": null,
   "metadata": {},
   "outputs": [],
   "source": [
    "# amend tuple"
   ]
  },
  {
   "cell_type": "markdown",
   "metadata": {},
   "source": [
    "## Dictionaries\n",
    "\n",
    "Dictionaries have keys and values. Values can be elements, lists etc"
   ]
  },
  {
   "cell_type": "markdown",
   "metadata": {},
   "source": [
    "Note the syntax `import numpy as np`: this imports the [numpy library](https://numpy.org/) and gives it the shorthand name 'np' for ease of use.\n",
    "\n",
    "A library is a file full of functions and sometimes bespoke data types, usually with a specific purpose. Numpy is short for \"numerical python\" and is aimed at scientific computing (in essence, maths). Pandas gives us a \"dataframe\" data type and a load of functions for manipulating those dataframes."
   ]
  },
  {
   "cell_type": "code",
   "execution_count": null,
   "metadata": {},
   "outputs": [],
   "source": [
    "import numpy as np\n",
    "\n",
    "trees_dict = {\"species\": [\"oak\", \"london plane\", \"hazel\", \"elm\", \"ash\", \"alder\", \"hawthorn\", \"yew\"],\\\n",
    "         \"latin\": [\"Quercus robur\", \"Platanus x hispanica\", \"Corylus avellana\", \"Ulmus minor\",\\\n",
    "                   \"Fraxinus excelsior\", \"Alnus glutinosa\", \"Crataegus monogyna\", \"Taxus baccata\"],\\\n",
    "         \"longevity\": [1000, 350, 80, np.NaN, 400, 28, 700, 900],\\\n",
    "         \"height_m\": [20, 35, 12, 30, 35, 60, 15, 20],\\\n",
    "              \"height_rank\": [5, 2, 7, 4, 2, 1, 6, 5],\\\n",
    "         \"is_deciduous\": [True, True, True, True, True, True, True, False]}"
   ]
  },
  {
   "cell_type": "markdown",
   "metadata": {},
   "source": [
    "Note we can call elements in a dictionary by name, which is pretty handy."
   ]
  },
  {
   "cell_type": "markdown",
   "metadata": {},
   "source": [
    "# Creating dataframes"
   ]
  },
  {
   "cell_type": "markdown",
   "metadata": {},
   "source": [
    "Manual entry as strategy for creating a dataframe:\n",
    "\n",
    "*  Cumbersome\n",
    "* Error-prone\n",
    "* NOT EXACTLY SCALABLE"
   ]
  },
  {
   "cell_type": "markdown",
   "metadata": {},
   "source": [
    "You will recall the main data types in Python: lists, tuples and dictionaries."
   ]
  },
  {
   "cell_type": "markdown",
   "metadata": {},
   "source": [
    "Pandas dataframes are based on 'Series', which are very much like dictionaries: named lists. \n",
    "\n",
    "Each column in a dataframe is a Series/dictionary. It has the special feature that each observation in the Series must be of the same type: largely numeric, string/categorical, or boolean (True/False).\n",
    "\n",
    "So, we can import dictionaries straight into pandas Dataframes"
   ]
  },
  {
   "cell_type": "code",
   "execution_count": null,
   "metadata": {},
   "outputs": [],
   "source": [
    "import pandas as pd\n",
    "# even though we already did this above\n",
    "import numpy as np\n",
    "import seaborn as sns"
   ]
  },
  {
   "cell_type": "code",
   "execution_count": null,
   "metadata": {},
   "outputs": [],
   "source": [
    "# import dataframe\n"
   ]
  },
  {
   "cell_type": "markdown",
   "metadata": {},
   "source": [
    "**Note**: \n",
    "\n",
    "* The index: it's role and utility\n",
    "* Variable types: numeric; categorical; ordinal; boolean\n",
    "* *Data* types"
   ]
  },
  {
   "cell_type": "code",
   "execution_count": null,
   "metadata": {},
   "outputs": [],
   "source": [
    "# The dataframe is of type dataframe\n"
   ]
  },
  {
   "cell_type": "code",
   "execution_count": null,
   "metadata": {},
   "outputs": [],
   "source": [
    "# Each column is of type Series\n"
   ]
  },
  {
   "cell_type": "code",
   "execution_count": null,
   "metadata": {},
   "outputs": [],
   "source": [
    "# Each observation is of type \"str\" or \"float\" or \"bool\"\n"
   ]
  },
  {
   "cell_type": "markdown",
   "metadata": {},
   "source": [
    "## Using the index\n",
    "\n",
    "We can isolate rows by index using [iloc](https://pandas.pydata.org/pandas-docs/stable/reference/api/pandas.DataFrame.iloc.html). In essence iloc takes the form;\n",
    "\n",
    "`dataframe.iloc[rows, columns]`\n",
    "\n",
    "Note the use of `:` alone to stand for 'all' or with integers (`0:1`) to denote a range of rows or columns.\n",
    "\n",
    "`iloc` operates as following:"
   ]
  },
  {
   "cell_type": "code",
   "execution_count": null,
   "metadata": {},
   "outputs": [],
   "source": [
    "# Use iloc"
   ]
  },
  {
   "cell_type": "markdown",
   "metadata": {},
   "source": [
    "Or with a `slice` object:"
   ]
  },
  {
   "cell_type": "code",
   "execution_count": null,
   "metadata": {},
   "outputs": [],
   "source": [
    "# two columns "
   ]
  },
  {
   "cell_type": "code",
   "execution_count": null,
   "metadata": {},
   "outputs": [],
   "source": [
    "# two rows\n",
    "\n"
   ]
  },
  {
   "cell_type": "code",
   "execution_count": null,
   "metadata": {},
   "outputs": [],
   "source": [
    "# A list of integers to retrieve specific index items\n",
    "\n"
   ]
  },
  {
   "cell_type": "code",
   "execution_count": null,
   "metadata": {},
   "outputs": [],
   "source": [
    "# Rows 2, 3 and 4\n",
    "\n"
   ]
  },
  {
   "cell_type": "markdown",
   "metadata": {},
   "source": [
    "Note above: iloc is somewhat idiosyncratic (in my view). Beware that you are retrieving what you think you are retrieving from the data!"
   ]
  },
  {
   "cell_type": "markdown",
   "metadata": {},
   "source": [
    "Note above the use of list objects in calling the rows and columns"
   ]
  },
  {
   "cell_type": "markdown",
   "metadata": {},
   "source": [
    "Mostly we would either:\n",
    "\n",
    "1. identify columns by their names or \n",
    "2. identify rows by some condition"
   ]
  },
  {
   "cell_type": "code",
   "execution_count": null,
   "metadata": {},
   "outputs": [],
   "source": [
    "# select some columns\n",
    "\n",
    "\n",
    "# select some rows\n",
    "\n",
    "# with Boolean data you can go with:\n",
    "\n",
    "# or:\n",
    "\n",
    "# ... where the ~ matches cells containing \"False\""
   ]
  },
  {
   "cell_type": "code",
   "execution_count": null,
   "metadata": {},
   "outputs": [],
   "source": [
    "# show some_rows_bool"
   ]
  },
  {
   "cell_type": "markdown",
   "metadata": {},
   "source": [
    "## Importing data\n",
    "\n",
    "The tabular data you require in this module is generally held in 'comma separated value' (csv) files and have been tidied a bit for you.\n",
    "\n",
    "Let us import a csv file created in 2015, listing [every tree in the Belfast City Council area](https://www.opendatani.gov.uk/dataset/belfast-trees/resource/b501ba21-e26d-46d6-b854-26a95db78dd9).\n",
    "\n",
    "If the file was in your folder, you could import with:\n",
    "\n",
    "`pd.read_csv(\"FILENAME.csv\")`\n",
    "\n",
    "As it is let's import the dataset directly from the Open Data NI website. You'll see that it is *much* bigger than the one we created above!"
   ]
  },
  {
   "cell_type": "code",
   "execution_count": 76,
   "metadata": {},
   "outputs": [
    {
     "name": "stderr",
     "output_type": "stream",
     "text": [
      "C:\\Users\\2089319\\AppData\\Local\\Temp\\ipykernel_20468\\1646306615.py:4: DtypeWarning: Columns (14) have mixed types. Specify dtype option on import or set low_memory=False.\n",
      "  belfast_trees = pd.read_csv(url)\n"
     ]
    }
   ],
   "source": [
    "# First create an object called url (for brevity)\n",
    "url = \"https://www.belfastcity.gov.uk/getmedia/262a1f01-f219-4780-835e-7a833bdd1e1c/odTrees.csv\"\n",
    "\n",
    "belfast_trees = pd.read_csv(url)"
   ]
  },
  {
   "cell_type": "markdown",
   "metadata": {},
   "source": [
    "Note the strange warning:\n",
    "\n",
    "`C:\\Users\\cokel\\.miniconda\\envs\\module\\lib\\site-packages\\IPython\\core\\interactiveshell.py:3146: DtypeWarning: Columns (14) have mixed types.Specify dtype option on import or set low_memory=False.\n",
    "  interactivity=interactivity, compiler=compiler, result=result)`"
   ]
  },
  {
   "cell_type": "markdown",
   "metadata": {},
   "source": [
    "Let's try to figure this out by looking a bit at the data:"
   ]
  },
  {
   "cell_type": "code",
   "execution_count": null,
   "metadata": {
    "scrolled": true
   },
   "outputs": [],
   "source": [
    "belfast_trees"
   ]
  },
  {
   "cell_type": "code",
   "execution_count": null,
   "metadata": {},
   "outputs": [],
   "source": [
    "sns.set(rc={\"figure.figsize\": (16, 8)})\n",
    "\n",
    "sns.scatterplot(x = \"TREELOCATIONX\",\n",
    "                y = \"TREELOCATIONY\",\n",
    "                data = belfast_trees,\n",
    "               hue = \"TYPEOFTREE\")"
   ]
  },
  {
   "cell_type": "markdown",
   "metadata": {},
   "source": [
    "# Where are the Handkerchief trees?!"
   ]
  },
  {
   "cell_type": "code",
   "execution_count": null,
   "metadata": {},
   "outputs": [],
   "source": [
    "belfast_trees.query(\"SPECIESTYPE == 'Handkerchief'\")\n"
   ]
  },
  {
   "cell_type": "code",
   "execution_count": 68,
   "metadata": {},
   "outputs": [],
   "source": [
    "# Definition to check for hankerchief tree"
   ]
  },
  {
   "cell_type": "code",
   "execution_count": null,
   "metadata": {},
   "outputs": [],
   "source": [
    "sns.set(rc={\"figure.figsize\": (16, 8)})\n",
    "\n",
    "sns.scatterplot()"
   ]
  },
  {
   "cell_type": "markdown",
   "metadata": {},
   "source": [
    "---\n",
    "\n",
    "# Count how many trees there are per species\n",
    "\n",
    "I did this pretty awkwardly in class. There is an easier way in the documentation (that I ought to have known about!): **`groupby` then `size`**. Let's try it, then sort by number:"
   ]
  },
  {
   "cell_type": "code",
   "execution_count": null,
   "metadata": {},
   "outputs": [],
   "source": [
    "# count by species"
   ]
  },
  {
   "cell_type": "markdown",
   "metadata": {},
   "source": [
    "## Missing data"
   ]
  },
  {
   "cell_type": "markdown",
   "metadata": {},
   "source": [
    "Note that speciestype data is missing for 166 trees, registered here as \"Not Known\"."
   ]
  },
  {
   "cell_type": "code",
   "execution_count": null,
   "metadata": {},
   "outputs": [],
   "source": [
    "belfast_trees.query(\"SPECIESTYPE == 'Not Known'\")"
   ]
  },
  {
   "cell_type": "markdown",
   "metadata": {},
   "source": [
    "That's interesting and troubling. Here we have missing data but instead of `np.nan`, the dataset has had 'not known' entered. If we were performing an analysis here we'd have to decide how to handle that data."
   ]
  },
  {
   "cell_type": "markdown",
   "metadata": {},
   "source": [
    "Finally let's group by both Species and whether the tree is in a park or on a street, then sort by species in alphabetical order. Note that I nest the `groupby` and `sort_values` operations in `pd.DataFrame` in essence so it returns something that is easier to manage and more pleasant to look at."
   ]
  },
  {
   "cell_type": "code",
   "execution_count": 77,
   "metadata": {},
   "outputs": [
    {
     "data": {
      "text/html": [
       "<div>\n",
       "<style scoped>\n",
       "    .dataframe tbody tr th:only-of-type {\n",
       "        vertical-align: middle;\n",
       "    }\n",
       "\n",
       "    .dataframe tbody tr th {\n",
       "        vertical-align: top;\n",
       "    }\n",
       "\n",
       "    .dataframe thead th {\n",
       "        text-align: right;\n",
       "    }\n",
       "</style>\n",
       "<table border=\"1\" class=\"dataframe\">\n",
       "  <thead>\n",
       "    <tr style=\"text-align: right;\">\n",
       "      <th></th>\n",
       "      <th>SPECIESTYPE</th>\n",
       "      <th>TYPEOFTREE</th>\n",
       "      <th>0</th>\n",
       "    </tr>\n",
       "  </thead>\n",
       "  <tbody>\n",
       "    <tr>\n",
       "      <th>0</th>\n",
       "      <td>Alder</td>\n",
       "      <td>ParkTree</td>\n",
       "      <td>1681</td>\n",
       "    </tr>\n",
       "    <tr>\n",
       "      <th>1</th>\n",
       "      <td>Alder</td>\n",
       "      <td>StreetTree</td>\n",
       "      <td>6</td>\n",
       "    </tr>\n",
       "    <tr>\n",
       "      <th>2</th>\n",
       "      <td>Amelanchier</td>\n",
       "      <td>ParkTree</td>\n",
       "      <td>43</td>\n",
       "    </tr>\n",
       "    <tr>\n",
       "      <th>3</th>\n",
       "      <td>Apple</td>\n",
       "      <td>ParkTree</td>\n",
       "      <td>75</td>\n",
       "    </tr>\n",
       "    <tr>\n",
       "      <th>4</th>\n",
       "      <td>Apple</td>\n",
       "      <td>StreetTree</td>\n",
       "      <td>12</td>\n",
       "    </tr>\n",
       "    <tr>\n",
       "      <th>...</th>\n",
       "      <td>...</td>\n",
       "      <td>...</td>\n",
       "      <td>...</td>\n",
       "    </tr>\n",
       "    <tr>\n",
       "      <th>78</th>\n",
       "      <td>Western Hemlock</td>\n",
       "      <td>ParkTree</td>\n",
       "      <td>32</td>\n",
       "    </tr>\n",
       "    <tr>\n",
       "      <th>79</th>\n",
       "      <td>Willow</td>\n",
       "      <td>ParkTree</td>\n",
       "      <td>905</td>\n",
       "    </tr>\n",
       "    <tr>\n",
       "      <th>80</th>\n",
       "      <td>Willow</td>\n",
       "      <td>StreetTree</td>\n",
       "      <td>2</td>\n",
       "    </tr>\n",
       "    <tr>\n",
       "      <th>81</th>\n",
       "      <td>Yew</td>\n",
       "      <td>ParkTree</td>\n",
       "      <td>309</td>\n",
       "    </tr>\n",
       "    <tr>\n",
       "      <th>82</th>\n",
       "      <td>Yucca</td>\n",
       "      <td>ParkTree</td>\n",
       "      <td>8</td>\n",
       "    </tr>\n",
       "  </tbody>\n",
       "</table>\n",
       "<p>83 rows × 3 columns</p>\n",
       "</div>"
      ],
      "text/plain": [
       "        SPECIESTYPE  TYPEOFTREE     0\n",
       "0             Alder    ParkTree  1681\n",
       "1             Alder  StreetTree     6\n",
       "2       Amelanchier    ParkTree    43\n",
       "3             Apple    ParkTree    75\n",
       "4             Apple  StreetTree    12\n",
       "..              ...         ...   ...\n",
       "78  Western Hemlock    ParkTree    32\n",
       "79           Willow    ParkTree   905\n",
       "80           Willow  StreetTree     2\n",
       "81              Yew    ParkTree   309\n",
       "82            Yucca    ParkTree     8\n",
       "\n",
       "[83 rows x 3 columns]"
      ]
     },
     "execution_count": 77,
     "metadata": {},
     "output_type": "execute_result"
    }
   ],
   "source": [
    "new_df = pd.DataFrame(belfast_trees.groupby([\"SPECIESTYPE\", \"TYPEOFTREE\"]).size()).sort_values(by = [\"SPECIESTYPE\"], ascending = True).reset_index()\n",
    "\n",
    "new_df"
   ]
  },
  {
   "cell_type": "markdown",
   "metadata": {},
   "source": [
    "Note above that I use `reset_index()` at the end of the operations. The `groupby` function in essence turns `SPECIESTYPE` and `TYPEOFTREE` into the index for the dataframe. This can be pretty useful both in managing and retrieving data. Try running the function above *without* `reset_index`. Here I want to treat the two columns as columns. So `reset_index` restores a numeric index, from 0 to 82. For more on Pandas indexing see [here](https://pandas.pydata.org/pandas-docs/stable/user_guide/indexing.html)."
   ]
  },
  {
   "cell_type": "code",
   "execution_count": null,
   "metadata": {},
   "outputs": [],
   "source": [
    "all_trees.describe()"
   ]
  },
  {
   "cell_type": "markdown",
   "metadata": {},
   "source": [
    "# Merge the datasets\n",
    "\n",
    "In this section I am going to:\n",
    "\n",
    "1. [Merge](https://pandas.pydata.org/pandas-docs/stable/user_guide/merging.html) the trees_df and belfast_trees dataframes\n",
    "2. Discard columns I don't need\n",
    "3. Calculate the different between the maximum height in the Woodland Trust data and each individual tree in the Belfast trees data "
   ]
  },
  {
   "cell_type": "markdown",
   "metadata": {},
   "source": [
    "### Concat or merge?\n",
    "\n",
    "* Concat for adding rows: make sure column names match (see penguins notebook)\n",
    "* merge for bringing columns together"
   ]
  },
  {
   "cell_type": "code",
   "execution_count": null,
   "metadata": {},
   "outputs": [],
   "source": [
    "# Join the dataframes\n",
    "\n",
    "#Rename the tree names in the belfast trees dataframe and lowercase\n",
    "\n",
    "\n",
    "# Merge the dataframes on the species_lower column - this simple merge will\n",
    "\n"
   ]
  },
  {
   "cell_type": "code",
   "execution_count": null,
   "metadata": {},
   "outputs": [],
   "source": [
    "# Select useful columns (not using iloc this time)\n",
    "\n",
    "all_trees = all_trees[[\"species\", \"latin\", \"TYPEOFTREE\", \"AGE\", \"CONDITION\", \"TREEHEIGHTinMETRES\", \"height_m\"]].\\\n",
    "    rename(columns = {\"AGE\":\"Age\", \"TYPEOFTREE\": \"type_of_tree\", \"CONDITION\": \"Condition\", \"TREEHEIGHTinMETRES\": \"Tree_height_m\", \"height_m\": \"Species_height_m\"})"
   ]
  },
  {
   "cell_type": "markdown",
   "metadata": {},
   "source": [
    "## Explore the new dataframe"
   ]
  },
  {
   "cell_type": "code",
   "execution_count": null,
   "metadata": {},
   "outputs": [],
   "source": [
    "all_trees.head()\n"
   ]
  },
  {
   "cell_type": "code",
   "execution_count": null,
   "metadata": {},
   "outputs": [],
   "source": [
    "all_trees.info()"
   ]
  },
  {
   "cell_type": "code",
   "execution_count": null,
   "metadata": {},
   "outputs": [],
   "source": [
    "all_trees.describe()"
   ]
  },
  {
   "cell_type": "markdown",
   "metadata": {},
   "source": [
    "# Codebooks: an aside\n",
    "\n",
    "Codebooks are used by researchers both to:\n",
    "\n",
    "1. document and if necessary guide teams in construcing data and\n",
    "2. to guide users regarding the layout and definitions of data in a repository.\n",
    "\n",
    "You need to be aware of Codebooks and how to read them.\n",
    "\n",
    "Alison Hurst's [introduction to the Penguins dataset](https://allisonhorst.github.io/palmerpenguins/) gives a good guide to how the data is shaped and what it contains.\n",
    "\n",
    "Also see the [V-Dem Codebook](https://www.v-dem.net/static/website/img/refs/codebookv12.pdf) for your test. It is *not* formatted in a helpful manner."
   ]
  },
  {
   "cell_type": "code",
   "execution_count": 104,
   "metadata": {},
   "outputs": [
    {
     "data": {
      "text/html": [
       "<div>\n",
       "<style scoped>\n",
       "    .dataframe tbody tr th:only-of-type {\n",
       "        vertical-align: middle;\n",
       "    }\n",
       "\n",
       "    .dataframe tbody tr th {\n",
       "        vertical-align: top;\n",
       "    }\n",
       "\n",
       "    .dataframe thead th {\n",
       "        text-align: right;\n",
       "    }\n",
       "</style>\n",
       "<table border=\"1\" class=\"dataframe\">\n",
       "  <thead>\n",
       "    <tr style=\"text-align: right;\">\n",
       "      <th></th>\n",
       "      <th>species</th>\n",
       "      <th>Tree_height_m</th>\n",
       "    </tr>\n",
       "  </thead>\n",
       "  <tbody>\n",
       "    <tr>\n",
       "      <th>0</th>\n",
       "      <td>ash</td>\n",
       "      <td>15.668372</td>\n",
       "    </tr>\n",
       "    <tr>\n",
       "      <th>1</th>\n",
       "      <td>alder</td>\n",
       "      <td>15.446354</td>\n",
       "    </tr>\n",
       "    <tr>\n",
       "      <th>2</th>\n",
       "      <td>oak</td>\n",
       "      <td>14.764055</td>\n",
       "    </tr>\n",
       "    <tr>\n",
       "      <th>3</th>\n",
       "      <td>yew</td>\n",
       "      <td>8.106796</td>\n",
       "    </tr>\n",
       "    <tr>\n",
       "      <th>4</th>\n",
       "      <td>hawthorn</td>\n",
       "      <td>7.368000</td>\n",
       "    </tr>\n",
       "    <tr>\n",
       "      <th>5</th>\n",
       "      <td>elm</td>\n",
       "      <td>7.006135</td>\n",
       "    </tr>\n",
       "    <tr>\n",
       "      <th>6</th>\n",
       "      <td>hazel</td>\n",
       "      <td>2.726872</td>\n",
       "    </tr>\n",
       "  </tbody>\n",
       "</table>\n",
       "</div>"
      ],
      "text/plain": [
       "    species  Tree_height_m\n",
       "0       ash      15.668372\n",
       "1     alder      15.446354\n",
       "2       oak      14.764055\n",
       "3       yew       8.106796\n",
       "4  hawthorn       7.368000\n",
       "5       elm       7.006135\n",
       "6     hazel       2.726872"
      ]
     },
     "execution_count": 104,
     "metadata": {},
     "output_type": "execute_result"
    }
   ],
   "source": [
    "all_trees_speciesmean = all_trees[[\"species\", \"Tree_height_m\"]]\n",
    "all_trees_speciesmean = all_trees_speciesmean.groupby([\"species\"]).aggregate(np.mean).sort_values(\"Tree_height_m\", ascending = False).reset_index()\n",
    "all_trees_speciesmean"
   ]
  },
  {
   "cell_type": "markdown",
   "metadata": {},
   "source": [
    "### Add new data: categorical operations"
   ]
  },
  {
   "cell_type": "markdown",
   "metadata": {},
   "source": [
    "**Let us create a new category of deviations of each Belfast tree from the normal tree species height (according to [the Woodland Trust](https://www.woodlandtrust.org.uk/trees-woods-and-wildlife/british-trees/a-z-of-british-trees/)): large, medium and small**"
   ]
  },
  {
   "cell_type": "code",
   "execution_count": null,
   "metadata": {},
   "outputs": [],
   "source": [
    "def deviation_cats(deviation):\n",
    "    if deviation <= 2:\n",
    "        return(\"small\")\n",
    "    elif deviation <= 7 > 2:\n",
    "        return(\"medium\")\n",
    "    else:\n",
    "        return(\"large\")"
   ]
  },
  {
   "cell_type": "code",
   "execution_count": null,
   "metadata": {},
   "outputs": [],
   "source": [
    "all_trees[\"deviation_extent\"] = all_trees[\"actual_deviation\"].apply(lambda x: deviation_cats(x))\n",
    "\n",
    "\n",
    "all_trees.sort_values(\"deviation_extent\", ascending=True)"
   ]
  },
  {
   "cell_type": "code",
   "execution_count": null,
   "metadata": {},
   "outputs": [],
   "source": [
    "all_trees[\"deviation_extent\"].unique()"
   ]
  },
  {
   "cell_type": "markdown",
   "metadata": {},
   "source": [
    "On Lambda expressions, which are a kind of \"control flow\", see the Python documentation [here](https://docs.python.org/3/tutorial/controlflow.html#lambda-expressions)."
   ]
  },
  {
   "cell_type": "markdown",
   "metadata": {},
   "source": [
    "# Reshaping the dataset"
   ]
  },
  {
   "cell_type": "markdown",
   "metadata": {},
   "source": [
    "## Research questions\n",
    "\n",
    "1. what species dominate in streets and parks?\n",
    "2. is tree condition related to type of tree?\n",
    "3. do different species do better in streets or parks?"
   ]
  },
  {
   "cell_type": "markdown",
   "metadata": {},
   "source": [
    "Question one is perfect for a reshaping exercise."
   ]
  },
  {
   "cell_type": "markdown",
   "metadata": {},
   "source": [
    "In essence, we are focused on **counting** and **comparisons**."
   ]
  },
  {
   "cell_type": "markdown",
   "metadata": {},
   "source": [
    "### Start by selecting specfic columns"
   ]
  },
  {
   "cell_type": "code",
   "execution_count": null,
   "metadata": {},
   "outputs": [],
   "source": [
    "# Select the columns to work with\n",
    "\n",
    "trees_by_place = all_trees[[\"species\", \"type_of_tree\", \"Age\", \"Condition\"]].reset_index()\n",
    "trees_by_place"
   ]
  },
  {
   "cell_type": "markdown",
   "metadata": {},
   "source": [
    "**Note: reset.index()**"
   ]
  },
  {
   "cell_type": "code",
   "execution_count": null,
   "metadata": {},
   "outputs": [],
   "source": [
    "trees_by_place2 = trees_by_place.groupby([\"type_of_tree\", \"species\"]).size().reset_index()\n",
    "trees_by_place2 = trees_by_place2.rename(columns={0: \"count\"}).sort_values(\"count\", ascending = False)\n",
    "trees_by_place2"
   ]
  },
  {
   "cell_type": "markdown",
   "metadata": {},
   "source": [
    "### Pivot Wider"
   ]
  },
  {
   "cell_type": "code",
   "execution_count": null,
   "metadata": {},
   "outputs": [],
   "source": [
    "trees_per_place_wider = trees_by_place2.pivot(index = \"type_of_tree\",\\\n",
    "                                             columns=\"species\",\\\n",
    "                                             values = \"count\").reset_index()"
   ]
  },
  {
   "cell_type": "code",
   "execution_count": null,
   "metadata": {},
   "outputs": [],
   "source": [
    "trees_per_place_wider"
   ]
  },
  {
   "cell_type": "markdown",
   "metadata": {},
   "source": [
    "### And longer again..."
   ]
  },
  {
   "cell_type": "code",
   "execution_count": null,
   "metadata": {},
   "outputs": [],
   "source": [
    "trees_per_place_longer = trees_per_place_wider.melt(id_vars=\"type_of_tree\",\n",
    "                                                   value_vars = [\"alder\", \"ash\", \"elm\", \"hawthorn\", \"hazel\", \"oak\", \"yew\"],\n",
    "                                                   value_name = \"population\")\n",
    "\n",
    "trees_per_place_longer"
   ]
  },
  {
   "cell_type": "markdown",
   "metadata": {},
   "source": [
    "# Longer tables are better for pictures"
   ]
  },
  {
   "cell_type": "code",
   "execution_count": null,
   "metadata": {},
   "outputs": [],
   "source": [
    "sns.catplot(x = \"species\", y = \"population\", hue = \"type_of_tree\", data = trees_per_place_longer, kind = \"bar\")"
   ]
  },
  {
   "cell_type": "markdown",
   "metadata": {},
   "source": [
    "# Wider tables are also known as 'contingency' tables\n",
    "\n",
    "Although they might be better off expressed in percentage terms"
   ]
  },
  {
   "cell_type": "code",
   "execution_count": null,
   "metadata": {
    "scrolled": true
   },
   "outputs": [],
   "source": [
    "trees_per_place_wider"
   ]
  },
  {
   "cell_type": "markdown",
   "metadata": {},
   "source": [
    "### Percentages by Row"
   ]
  },
  {
   "cell_type": "code",
   "execution_count": null,
   "metadata": {
    "scrolled": true
   },
   "outputs": [],
   "source": [
    "trees_per_place_wider[[\"alder\", \"ash\", \"elm\", \"hawthorn\", \"hazel\", \"oak\", \"yew\"]] = trees_per_place_wider[[\"alder\", \"ash\", \"elm\", \"hawthorn\", \"hazel\", \"oak\", \"yew\"]].\\\n",
    "    apply(lambda x: (x/x.sum())*100, axis=1)\n",
    "\n",
    "trees_per_place_wider.round(decimals = 2)"
   ]
  },
  {
   "cell_type": "markdown",
   "metadata": {},
   "source": [
    "**Moral**: counting the selection of tree species as 100%, almost 50% of these trees in parks are either Yew or alder trees. Over 60% of street trees of this type are either Hazel or Elm trees."
   ]
  },
  {
   "cell_type": "markdown",
   "metadata": {},
   "source": [
    "### Percentages by Column"
   ]
  },
  {
   "cell_type": "code",
   "execution_count": null,
   "metadata": {},
   "outputs": [],
   "source": [
    "trees_per_place_wider[[\"alder\", \"ash\", \"elm\", \"hawthorn\", \"hazel\", \"oak\", \"yew\"]] = trees_per_place_wider[[\"alder\", \"ash\", \"elm\", \"hawthorn\", \"hazel\", \"oak\", \"yew\"]].\\\n",
    "    apply(lambda x: (x/x.sum())*100, axis=0)\n",
    "\n",
    "trees_per_place_wider.round(decimals = 2)"
   ]
  },
  {
   "cell_type": "markdown",
   "metadata": {},
   "source": [
    "**Moral**: All Yew trees and almost all Alders in Belfast are in parks whereas almost all Hazel trees are on the street. Oaks are almost split 50:50."
   ]
  },
  {
   "cell_type": "markdown",
   "metadata": {},
   "source": [
    "# Questions?"
   ]
  }
 ],
 "metadata": {
  "kernelspec": {
   "display_name": "Python 3.9.13 ('base')",
   "language": "python",
   "name": "python3"
  },
  "language_info": {
   "codemirror_mode": {
    "name": "ipython",
    "version": 3
   },
   "file_extension": ".py",
   "mimetype": "text/x-python",
   "name": "python",
   "nbconvert_exporter": "python",
   "pygments_lexer": "ipython3",
   "version": "3.9.12"
  },
  "vscode": {
   "interpreter": {
    "hash": "4a38e3050587c23ddf3cad48cf128e579702084d1f2e6323d5657ab912918186"
   }
  }
 },
 "nbformat": 4,
 "nbformat_minor": 4
}
